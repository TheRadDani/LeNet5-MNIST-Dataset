{
  "nbformat": 4,
  "nbformat_minor": 0,
  "metadata": {
    "colab": {
      "provenance": [],
      "gpuType": "T4",
      "include_colab_link": true
    },
    "kernelspec": {
      "name": "python3",
      "display_name": "Python 3"
    },
    "language_info": {
      "name": "python"
    },
    "accelerator": "GPU",
    "gpuClass": "standard"
  },
  "cells": [
    {
      "cell_type": "markdown",
      "metadata": {
        "id": "view-in-github",
        "colab_type": "text"
      },
      "source": [
        "<a href=\"https://colab.research.google.com/github/TheRadDani/LeNet5-MNIST-Dataset/blob/main/LeNet_5_Pytorch.ipynb\" target=\"_parent\"><img src=\"https://colab.research.google.com/assets/colab-badge.svg\" alt=\"Open In Colab\"/></a>"
      ]
    },
    {
      "cell_type": "code",
      "source": [
        "import torch \n",
        "import torchvision \n",
        "from torch.utils.data import DataLoader\n",
        "from torchvision import datasets \n",
        "from torchvision import transforms\n",
        "from torch import nn \n",
        "import torch.nn.functional as F\n",
        "import numpy as np\n",
        "import matplotlib.pyplot as plt"
      ],
      "metadata": {
        "id": "KIKOPPVf8hqT"
      },
      "execution_count": 1,
      "outputs": []
    },
    {
      "cell_type": "code",
      "source": [
        "trans = transforms.Compose([\n",
        "    \n",
        "    transforms.ToTensor(), \n",
        "    transforms.Normalize(mean = 0.5, std = 0.5)\n",
        "])\n",
        "\n",
        "training_data = datasets.MNIST(\n",
        "    \n",
        "    root = \"data\", \n",
        "    train = True, \n",
        "    download = True, \n",
        "    transform = trans\n",
        ")\n",
        "\n",
        "validation_data = datasets.MNIST(\n",
        "    \n",
        "    root = \"data\",\n",
        "    train = False, \n",
        "    download = True, \n",
        "    transform= trans \n",
        ")"
      ],
      "metadata": {
        "colab": {
          "base_uri": "https://localhost:8080/"
        },
        "id": "GGf5io8WPI7u",
        "outputId": "59beffab-53f0-4cf0-b396-c7f4e4870ecf"
      },
      "execution_count": 2,
      "outputs": [
        {
          "output_type": "stream",
          "name": "stdout",
          "text": [
            "Downloading http://yann.lecun.com/exdb/mnist/train-images-idx3-ubyte.gz\n",
            "Downloading http://yann.lecun.com/exdb/mnist/train-images-idx3-ubyte.gz to data/MNIST/raw/train-images-idx3-ubyte.gz\n"
          ]
        },
        {
          "output_type": "stream",
          "name": "stderr",
          "text": [
            "100%|██████████| 9912422/9912422 [00:00<00:00, 347977964.51it/s]"
          ]
        },
        {
          "output_type": "stream",
          "name": "stdout",
          "text": [
            "Extracting data/MNIST/raw/train-images-idx3-ubyte.gz to data/MNIST/raw\n"
          ]
        },
        {
          "output_type": "stream",
          "name": "stderr",
          "text": [
            "\n"
          ]
        },
        {
          "output_type": "stream",
          "name": "stdout",
          "text": [
            "\n",
            "Downloading http://yann.lecun.com/exdb/mnist/train-labels-idx1-ubyte.gz\n",
            "Downloading http://yann.lecun.com/exdb/mnist/train-labels-idx1-ubyte.gz to data/MNIST/raw/train-labels-idx1-ubyte.gz\n"
          ]
        },
        {
          "output_type": "stream",
          "name": "stderr",
          "text": [
            "100%|██████████| 28881/28881 [00:00<00:00, 85911839.59it/s]"
          ]
        },
        {
          "output_type": "stream",
          "name": "stdout",
          "text": [
            "Extracting data/MNIST/raw/train-labels-idx1-ubyte.gz to data/MNIST/raw\n",
            "\n",
            "Downloading http://yann.lecun.com/exdb/mnist/t10k-images-idx3-ubyte.gz\n"
          ]
        },
        {
          "output_type": "stream",
          "name": "stderr",
          "text": [
            "\n"
          ]
        },
        {
          "output_type": "stream",
          "name": "stdout",
          "text": [
            "Downloading http://yann.lecun.com/exdb/mnist/t10k-images-idx3-ubyte.gz to data/MNIST/raw/t10k-images-idx3-ubyte.gz\n"
          ]
        },
        {
          "output_type": "stream",
          "name": "stderr",
          "text": [
            "100%|██████████| 1648877/1648877 [00:00<00:00, 157397560.18it/s]\n"
          ]
        },
        {
          "output_type": "stream",
          "name": "stdout",
          "text": [
            "Extracting data/MNIST/raw/t10k-images-idx3-ubyte.gz to data/MNIST/raw\n",
            "\n",
            "Downloading http://yann.lecun.com/exdb/mnist/t10k-labels-idx1-ubyte.gz\n",
            "Downloading http://yann.lecun.com/exdb/mnist/t10k-labels-idx1-ubyte.gz to data/MNIST/raw/t10k-labels-idx1-ubyte.gz\n"
          ]
        },
        {
          "output_type": "stream",
          "name": "stderr",
          "text": [
            "100%|██████████| 4542/4542 [00:00<00:00, 5818732.06it/s]"
          ]
        },
        {
          "output_type": "stream",
          "name": "stdout",
          "text": [
            "Extracting data/MNIST/raw/t10k-labels-idx1-ubyte.gz to data/MNIST/raw\n",
            "\n"
          ]
        },
        {
          "output_type": "stream",
          "name": "stderr",
          "text": [
            "\n"
          ]
        }
      ]
    },
    {
      "cell_type": "code",
      "source": [
        "training_data.class_to_idx"
      ],
      "metadata": {
        "colab": {
          "base_uri": "https://localhost:8080/"
        },
        "id": "7DrzNxSgPzra",
        "outputId": "2f081f6d-4a78-40b2-f94a-d22d25af45ee"
      },
      "execution_count": 4,
      "outputs": [
        {
          "output_type": "execute_result",
          "data": {
            "text/plain": [
              "{'0 - zero': 0,\n",
              " '1 - one': 1,\n",
              " '2 - two': 2,\n",
              " '3 - three': 3,\n",
              " '4 - four': 4,\n",
              " '5 - five': 5,\n",
              " '6 - six': 6,\n",
              " '7 - seven': 7,\n",
              " '8 - eight': 8,\n",
              " '9 - nine': 9}"
            ]
          },
          "metadata": {},
          "execution_count": 4
        }
      ]
    },
    {
      "cell_type": "code",
      "source": [
        "image, label = training_data[10] \n",
        "\n",
        "classes = training_data.classes\n",
        "\n",
        "print(image.shape)\n",
        "print(image.dtype)\n",
        "print(classes[label])"
      ],
      "metadata": {
        "colab": {
          "base_uri": "https://localhost:8080/"
        },
        "id": "MfilrdzVP6dB",
        "outputId": "80a1828a-f3e9-43e8-825c-fa8ace10ec89"
      },
      "execution_count": 9,
      "outputs": [
        {
          "output_type": "stream",
          "name": "stdout",
          "text": [
            "torch.Size([1, 28, 28])\n",
            "torch.float32\n",
            "3 - three\n"
          ]
        }
      ]
    },
    {
      "cell_type": "code",
      "source": [
        "plt.imshow(image.reshape(28,28), cmap = \"gray\") \n",
        "plt.grid(False)\n",
        "plt.show()"
      ],
      "metadata": {
        "colab": {
          "base_uri": "https://localhost:8080/",
          "height": 430
        },
        "id": "U26ZnD2ZQN8N",
        "outputId": "6cc71806-8727-4f35-c9b0-8b1aa17377f1"
      },
      "execution_count": 12,
      "outputs": [
        {
          "output_type": "display_data",
          "data": {
            "text/plain": [
              "<Figure size 640x480 with 1 Axes>"
            ],
            "image/png": "[encoded data removed]"
          },
          "metadata": {}
        }
      ]
    },
    {
      "cell_type": "code",
      "source": [
        "training_dataloader = DataLoader(dataset = training_data, batch_size = 64, shuffle = True)\n",
        "\n",
        "test_dataloader = DataLoader(dataset = validation_data, batch_size = 64, shuffle = True) "
      ],
      "metadata": {
        "id": "fukEktZRROqJ"
      },
      "execution_count": 13,
      "outputs": []
    },
    {
      "cell_type": "code",
      "source": [
        "training_dataloader.dataset"
      ],
      "metadata": {
        "colab": {
          "base_uri": "https://localhost:8080/"
        },
        "id": "WDPQViX1Rn8y",
        "outputId": "0225e7a1-ba37-49e5-d690-334736464cd2"
      },
      "execution_count": 14,
      "outputs": [
        {
          "output_type": "execute_result",
          "data": {
            "text/plain": [
              "Dataset MNIST\n",
              "    Number of datapoints: 60000\n",
              "    Root location: data\n",
              "    Split: Train\n",
              "    StandardTransform\n",
              "Transform: Compose(\n",
              "               ToTensor()\n",
              "               Normalize(mean=0.5, std=0.5)\n",
              "           )"
            ]
          },
          "metadata": {},
          "execution_count": 14
        }
      ]
    },
    {
      "cell_type": "code",
      "source": [
        "class LeNet(nn.Module):\n",
        "\n",
        "  def __init__(self):\n",
        "    super(LeNet, self).__init__() \n",
        "    self.conv1 = nn.Conv2d(1,6,5) \n",
        "    self.pool1 = nn.MaxPool2d(2,2) \n",
        "    self.conv2 = nn.Conv2d(6,16,5) \n",
        "    self.pool2 = nn.MaxPool2d(2,2) \n",
        "    self.fc1 = nn.Linear(16*4*4, 120)\n",
        "    self.fc2 = nn.Linear(120,84)\n",
        "    self.fc3 = nn.Linear(84,10) \n",
        "\n",
        "\n",
        "  def forward(self,x):\n",
        "    x = self.pool1(F.relu(self.conv1(x))) \n",
        "    x = self.pool2(F.relu(self.conv2(x))) \n",
        "    x = torch.flatten(x,1) \n",
        "    x = F.relu(self.fc1(x))\n",
        "    x = F.relu(self.fc2(x)) \n",
        "    logits = self.fc3(x) \n",
        "    return logits"
      ],
      "metadata": {
        "id": "6TglgEaYRsR5"
      },
      "execution_count": 16,
      "outputs": []
    },
    {
      "cell_type": "code",
      "source": [
        "net = LeNet() \n",
        "\n",
        "print(net)"
      ],
      "metadata": {
        "colab": {
          "base_uri": "https://localhost:8080/"
        },
        "id": "OMV0uXhRTh2A",
        "outputId": "0b4df1d0-ace3-435c-eb2c-ec52d2fb7917"
      },
      "execution_count": 17,
      "outputs": [
        {
          "output_type": "stream",
          "name": "stdout",
          "text": [
            "LeNet(\n",
            "  (conv1): Conv2d(1, 6, kernel_size=(5, 5), stride=(1, 1))\n",
            "  (pool1): MaxPool2d(kernel_size=2, stride=2, padding=0, dilation=1, ceil_mode=False)\n",
            "  (conv2): Conv2d(6, 16, kernel_size=(5, 5), stride=(1, 1))\n",
            "  (pool2): MaxPool2d(kernel_size=2, stride=2, padding=0, dilation=1, ceil_mode=False)\n",
            "  (fc1): Linear(in_features=256, out_features=120, bias=True)\n",
            "  (fc2): Linear(in_features=120, out_features=84, bias=True)\n",
            "  (fc3): Linear(in_features=84, out_features=10, bias=True)\n",
            ")\n"
          ]
        }
      ]
    },
    {
      "cell_type": "code",
      "source": [
        "noise = torch.randn(size = (1,1,28,28))\n",
        "predictions = net(noise) \n",
        "print(predictions)"
      ],
      "metadata": {
        "colab": {
          "base_uri": "https://localhost:8080/"
        },
        "id": "QhY9aSr7Tomv",
        "outputId": "fbafe379-9826-4702-8550-5e90c975ee6b"
      },
      "execution_count": 18,
      "outputs": [
        {
          "output_type": "stream",
          "name": "stdout",
          "text": [
            "tensor([[ 0.0645, -0.0362, -0.0662,  0.0591,  0.0394,  0.0579,  0.1180,  0.0286,\n",
            "          0.0697,  0.0550]], grad_fn=<AddmmBackward0>)\n"
          ]
        }
      ]
    },
    {
      "cell_type": "code",
      "source": [
        "plt.imshow(noise.reshape(28,28), cmap = \"gray\") \n",
        "plt.grid(False)\n",
        "plt.show()"
      ],
      "metadata": {
        "id": "oATo96jAMIUd",
        "outputId": "4185aece-d11d-40b9-9d33-7f8124b637a8",
        "colab": {
          "base_uri": "https://localhost:8080/",
          "height": 430
        }
      },
      "execution_count": 19,
      "outputs": [
        {
          "output_type": "display_data",
          "data": {
            "text/plain": [
              "<Figure size 640x480 with 1 Axes>"
            ],
            "image/png": "[encoded data removed]"
          },
          "metadata": {}
        }
      ]
    },
    {
      "cell_type": "code",
      "source": [
        "loss_function = nn.CrossEntropyLoss() \n",
        "\n",
        "optimizer_function = torch.optim.Adam(net.parameters(), lr = 1e-3) "
      ],
      "metadata": {
        "id": "f9piPe4PUzk2"
      },
      "execution_count": 20,
      "outputs": []
    },
    {
      "cell_type": "code",
      "source": [
        "x,y = next(iter(training_dataloader))\n",
        "x.size(),y.size()"
      ],
      "metadata": {
        "id": "lBQtvO8ENSpI",
        "outputId": "50581213-8778-49c8-e796-97494cd7f17d",
        "colab": {
          "base_uri": "https://localhost:8080/"
        }
      },
      "execution_count": 30,
      "outputs": [
        {
          "output_type": "execute_result",
          "data": {
            "text/plain": [
              "64"
            ]
          },
          "metadata": {},
          "execution_count": 30
        }
      ]
    },
    {
      "cell_type": "code",
      "source": [
        "def train(dataloader, model, loss_fn, op_fn):\n",
        "  size = len(training_dataloader.dataset)\n",
        "  for batch, (x,y) in enumerate(dataloader): \n",
        "    #forward run\n",
        "    y_pred = model(x) \n",
        "    loss = loss_fn(y_pred, y) \n",
        "\n",
        "    #backpropagation\n",
        "    op_fn.zero_grad()\n",
        "    loss.backward()\n",
        "    op_fn.step()\n",
        "\n",
        "    if batch % 100 ==0:\n",
        "\n",
        "      loss, current = loss.item(), batch * len(x) \n",
        "      print(f\"loss is {loss}  [{current} / {size}]\")"
      ],
      "metadata": {
        "id": "Ew03OWjWWqmv"
      },
      "execution_count": 43,
      "outputs": []
    },
    {
      "cell_type": "code",
      "source": [
        "def test(dataloader, model, loss_fn):\n",
        "\n",
        "  size = len(dataloader.dataset)\n",
        "  num_batches = len(dataloader) \n",
        "  correct, test_loss = 0,0 \n",
        "  with torch.no_grad():\n",
        "    for x,y in dataloader:\n",
        "      y_pred = model(x) \n",
        "      test_loss += loss_fn(y_pred, y).item() \n",
        "      correct += (y_pred.argmax(1) == y).type(torch.float).sum().item() \n",
        "  test_loss /= num_batches \n",
        "  correct /= size \n",
        "  print(f\"accuracy is {correct*100} test_loss is {test_loss}\")\n"
      ],
      "metadata": {
        "id": "LopQku5_Xb42"
      },
      "execution_count": 41,
      "outputs": []
    },
    {
      "cell_type": "code",
      "source": [
        "EPOCHS = 20 \n",
        "\n",
        "for epochs in range(EPOCHS):\n",
        "  print(f\"epoch: {epochs+1} ---------------------------\")\n",
        "  train(training_dataloader, net, loss_function, optimizer_function)\n",
        "  test(test_dataloader, net, loss_function) \n",
        "\n",
        "print('DONE') "
      ],
      "metadata": {
        "colab": {
          "base_uri": "https://localhost:8080/"
        },
        "id": "zKOg4kKKZ37h",
        "outputId": "832f2b12-1e7e-4a2e-8f9d-46ab00f8488b"
      },
      "execution_count": 44,
      "outputs": [
        {
          "output_type": "stream",
          "name": "stdout",
          "text": [
            "epoch: 1 ---------------------------\n",
            "loss is 0.006118019577115774  [0 / 60000]\n",
            "loss is 0.004824737552553415  [6400 / 60000]\n",
            "loss is 0.09419170022010803  [12800 / 60000]\n",
            "loss is 0.0012653374578803778  [19200 / 60000]\n",
            "loss is 0.015593001618981361  [25600 / 60000]\n",
            "loss is 0.10025688260793686  [32000 / 60000]\n",
            "loss is 0.0028967740945518017  [38400 / 60000]\n",
            "loss is 0.00011138830450363457  [44800 / 60000]\n",
            "loss is 0.058395545929670334  [51200 / 60000]\n",
            "loss is 0.019465766847133636  [57600 / 60000]\n",
            "accuracy is 98.67 test_loss is 0.04310908425048032\n",
            "epoch: 2 ---------------------------\n",
            "loss is 0.02150736376643181  [0 / 60000]\n",
            "loss is 0.004724208265542984  [6400 / 60000]\n",
            "loss is 0.006683297920972109  [12800 / 60000]\n",
            "loss is 0.058915529400110245  [19200 / 60000]\n",
            "loss is 0.0003018583811353892  [25600 / 60000]\n",
            "loss is 0.013195420615375042  [32000 / 60000]\n",
            "loss is 0.037924107164144516  [38400 / 60000]\n",
            "loss is 0.004244264680892229  [44800 / 60000]\n",
            "loss is 0.0003448157222010195  [51200 / 60000]\n",
            "loss is 0.0020138234831392765  [57600 / 60000]\n",
            "accuracy is 98.81 test_loss is 0.04122239664324135\n",
            "epoch: 3 ---------------------------\n",
            "loss is 0.0012734828051179647  [0 / 60000]\n",
            "loss is 0.00021027267212048173  [6400 / 60000]\n",
            "loss is 0.020050328224897385  [12800 / 60000]\n",
            "loss is 0.016752056777477264  [19200 / 60000]\n",
            "loss is 0.0005933805368840694  [25600 / 60000]\n",
            "loss is 0.08018247038125992  [32000 / 60000]\n",
            "loss is 0.0006037775310687721  [38400 / 60000]\n",
            "loss is 9.523495100438595e-05  [44800 / 60000]\n",
            "loss is 0.005635530687868595  [51200 / 60000]\n",
            "loss is 0.010620036162436008  [57600 / 60000]\n",
            "accuracy is 99.06 test_loss is 0.03581776909949017\n",
            "epoch: 4 ---------------------------\n",
            "loss is 0.014013183303177357  [0 / 60000]\n",
            "loss is 0.0009339954704046249  [6400 / 60000]\n",
            "loss is 0.00038567971205338836  [12800 / 60000]\n",
            "loss is 0.0006614179583266377  [19200 / 60000]\n",
            "loss is 0.0033680701162666082  [25600 / 60000]\n",
            "loss is 0.004828144796192646  [32000 / 60000]\n",
            "loss is 0.07883264124393463  [38400 / 60000]\n",
            "loss is 0.004530754406005144  [44800 / 60000]\n",
            "loss is 0.0014935215003788471  [51200 / 60000]\n",
            "loss is 0.0013227227609604597  [57600 / 60000]\n",
            "accuracy is 98.88 test_loss is 0.04301064099831385\n",
            "epoch: 5 ---------------------------\n",
            "loss is 0.009445331059396267  [0 / 60000]\n",
            "loss is 3.512274633976631e-05  [6400 / 60000]\n",
            "loss is 0.0016152715543285012  [12800 / 60000]\n",
            "loss is 0.00010256403766106814  [19200 / 60000]\n",
            "loss is 0.004320504609495401  [25600 / 60000]\n",
            "loss is 0.007310791872441769  [32000 / 60000]\n",
            "loss is 0.00025014980928972363  [38400 / 60000]\n",
            "loss is 0.0017494569765403867  [44800 / 60000]\n",
            "loss is 0.0004685463791247457  [51200 / 60000]\n",
            "loss is 0.004032050725072622  [57600 / 60000]\n",
            "accuracy is 98.53 test_loss is 0.0596539364189872\n",
            "epoch: 6 ---------------------------\n",
            "loss is 0.0002521846618037671  [0 / 60000]\n",
            "loss is 0.0009050720254890621  [6400 / 60000]\n",
            "loss is 9.488744399277493e-05  [12800 / 60000]\n",
            "loss is 0.00016964190581347793  [19200 / 60000]\n",
            "loss is 4.565006383927539e-05  [25600 / 60000]\n",
            "loss is 0.014016258530318737  [32000 / 60000]\n",
            "loss is 0.0002822736860252917  [38400 / 60000]\n",
            "loss is 0.0005851142923347652  [44800 / 60000]\n",
            "loss is 0.007881074212491512  [51200 / 60000]\n",
            "loss is 0.0021591379772871733  [57600 / 60000]\n",
            "accuracy is 98.69 test_loss is 0.04953996285301771\n",
            "epoch: 7 ---------------------------\n",
            "loss is 0.0046513439156115055  [0 / 60000]\n",
            "loss is 0.08350909501314163  [6400 / 60000]\n",
            "loss is 0.0009817486861720681  [12800 / 60000]\n",
            "loss is 0.0006954502896405756  [19200 / 60000]\n",
            "loss is 8.494554640492424e-05  [25600 / 60000]\n",
            "loss is 9.493515244685113e-05  [32000 / 60000]\n",
            "loss is 2.4923920136643574e-05  [38400 / 60000]\n",
            "loss is 7.204282883321866e-05  [44800 / 60000]\n",
            "loss is 0.0068616014905273914  [51200 / 60000]\n",
            "loss is 0.0012245444813743234  [57600 / 60000]\n",
            "accuracy is 98.72 test_loss is 0.04759948749839968\n",
            "epoch: 8 ---------------------------\n",
            "loss is 0.011254302226006985  [0 / 60000]\n",
            "loss is 0.0013784767361357808  [6400 / 60000]\n",
            "loss is 0.0020554568618535995  [12800 / 60000]\n",
            "loss is 8.602200978202745e-05  [19200 / 60000]\n",
            "loss is 0.007615671027451754  [25600 / 60000]\n",
            "loss is 0.0003138768661301583  [32000 / 60000]\n",
            "loss is 0.0063516926020383835  [38400 / 60000]\n",
            "loss is 0.011118472553789616  [44800 / 60000]\n",
            "loss is 0.0036660819314420223  [51200 / 60000]\n",
            "loss is 5.763750959886238e-05  [57600 / 60000]\n",
            "accuracy is 98.81 test_loss is 0.04254785287306511\n",
            "epoch: 9 ---------------------------\n",
            "loss is 0.0004375356948003173  [0 / 60000]\n",
            "loss is 0.0017988861072808504  [6400 / 60000]\n",
            "loss is 0.014724464155733585  [12800 / 60000]\n",
            "loss is 0.014029255136847496  [19200 / 60000]\n",
            "loss is 0.00020230516383890063  [25600 / 60000]\n",
            "loss is 0.007326786406338215  [32000 / 60000]\n",
            "loss is 0.010355833917856216  [38400 / 60000]\n",
            "loss is 0.0006681605591438711  [44800 / 60000]\n",
            "loss is 0.0007527439738623798  [51200 / 60000]\n",
            "loss is 0.0001766427740221843  [57600 / 60000]\n",
            "accuracy is 98.88 test_loss is 0.038731181227092654\n",
            "epoch: 10 ---------------------------\n",
            "loss is 0.01210346631705761  [0 / 60000]\n",
            "loss is 0.0021833397913724184  [6400 / 60000]\n",
            "loss is 0.005513541400432587  [12800 / 60000]\n",
            "loss is 0.0006256652995944023  [19200 / 60000]\n",
            "loss is 0.020966259762644768  [25600 / 60000]\n",
            "loss is 0.008669838309288025  [32000 / 60000]\n",
            "loss is 0.01284194365143776  [38400 / 60000]\n",
            "loss is 0.004897155798971653  [44800 / 60000]\n",
            "loss is 0.00015431898646056652  [51200 / 60000]\n",
            "loss is 0.1381671279668808  [57600 / 60000]\n",
            "accuracy is 98.99 test_loss is 0.03748329026701445\n",
            "epoch: 11 ---------------------------\n",
            "loss is 0.004761130549013615  [0 / 60000]\n",
            "loss is 0.03681958466768265  [6400 / 60000]\n",
            "loss is 0.00568777322769165  [12800 / 60000]\n",
            "loss is 0.0003429451026022434  [19200 / 60000]\n",
            "loss is 0.011184141971170902  [25600 / 60000]\n",
            "loss is 0.0026564227882772684  [32000 / 60000]\n",
            "loss is 0.00013892626157030463  [38400 / 60000]\n",
            "loss is 0.003801815677434206  [44800 / 60000]\n",
            "loss is 1.0759456927189603e-05  [51200 / 60000]\n",
            "loss is 5.5471969972131774e-05  [57600 / 60000]\n",
            "accuracy is 98.79 test_loss is 0.051703394541489874\n",
            "epoch: 12 ---------------------------\n",
            "loss is 0.021152930334210396  [0 / 60000]\n",
            "loss is 0.01486119069159031  [6400 / 60000]\n",
            "loss is 0.0006056335987523198  [12800 / 60000]\n",
            "loss is 0.001343660755082965  [19200 / 60000]\n",
            "loss is 0.018529435619711876  [25600 / 60000]\n",
            "loss is 0.0026331618428230286  [32000 / 60000]\n",
            "loss is 0.0007278310949914157  [38400 / 60000]\n",
            "loss is 0.0029575268272310495  [44800 / 60000]\n",
            "loss is 0.0005822760285809636  [51200 / 60000]\n",
            "loss is 0.015577636659145355  [57600 / 60000]\n",
            "accuracy is 98.7 test_loss is 0.05706156829428495\n",
            "epoch: 13 ---------------------------\n",
            "loss is 0.00022868304222356528  [0 / 60000]\n",
            "loss is 5.848190630786121e-05  [6400 / 60000]\n",
            "loss is 0.0004376061842776835  [12800 / 60000]\n",
            "loss is 0.00028182074311189353  [19200 / 60000]\n",
            "loss is 0.004118388518691063  [25600 / 60000]\n",
            "loss is 0.0011686395155265927  [32000 / 60000]\n",
            "loss is 6.0183974710525945e-05  [38400 / 60000]\n",
            "loss is 0.00013335396943148226  [44800 / 60000]\n",
            "loss is 0.021823743358254433  [51200 / 60000]\n",
            "loss is 0.011355845257639885  [57600 / 60000]\n",
            "accuracy is 98.75 test_loss is 0.05608509616984949\n",
            "epoch: 14 ---------------------------\n",
            "loss is 0.001066477969288826  [0 / 60000]\n",
            "loss is 6.710371962981299e-05  [6400 / 60000]\n",
            "loss is 0.03274915739893913  [12800 / 60000]\n",
            "loss is 0.0017708094092085958  [19200 / 60000]\n",
            "loss is 0.005982197821140289  [25600 / 60000]\n",
            "loss is 0.00021578153246082366  [32000 / 60000]\n",
            "loss is 0.0001313064421992749  [38400 / 60000]\n",
            "loss is 0.0002621743187773973  [44800 / 60000]\n",
            "loss is 0.00047534992336295545  [51200 / 60000]\n",
            "loss is 0.0011201259912922978  [57600 / 60000]\n",
            "accuracy is 98.98 test_loss is 0.042953140469674383\n",
            "epoch: 15 ---------------------------\n",
            "loss is 4.032329889014363e-05  [0 / 60000]\n",
            "loss is 0.00011847144196508452  [6400 / 60000]\n",
            "loss is 0.00025148005806840956  [12800 / 60000]\n",
            "loss is 0.0002976895484607667  [19200 / 60000]\n",
            "loss is 0.00042704286170192063  [25600 / 60000]\n",
            "loss is 0.0017889935988932848  [32000 / 60000]\n",
            "loss is 0.00015457117115147412  [38400 / 60000]\n",
            "loss is 0.004665180575102568  [44800 / 60000]\n",
            "loss is 0.009222431108355522  [51200 / 60000]\n",
            "loss is 1.5124353467399487e-06  [57600 / 60000]\n",
            "accuracy is 99.08 test_loss is 0.0449399206294931\n",
            "epoch: 16 ---------------------------\n",
            "loss is 7.471405115211383e-05  [0 / 60000]\n",
            "loss is 5.116237844049465e-06  [6400 / 60000]\n",
            "loss is 0.0012450250796973705  [12800 / 60000]\n",
            "loss is 0.0002533508522901684  [19200 / 60000]\n",
            "loss is 0.0003540817415341735  [25600 / 60000]\n",
            "loss is 2.7265914468443953e-05  [32000 / 60000]\n",
            "loss is 0.003449169686064124  [38400 / 60000]\n",
            "loss is 0.00010223249410046265  [44800 / 60000]\n",
            "loss is 0.004382095765322447  [51200 / 60000]\n",
            "loss is 0.0001835796720115468  [57600 / 60000]\n",
            "accuracy is 98.82 test_loss is 0.05452583355142555\n",
            "epoch: 17 ---------------------------\n",
            "loss is 0.00014966074377298355  [0 / 60000]\n",
            "loss is 0.001449973089620471  [6400 / 60000]\n",
            "loss is 0.0012053345562890172  [12800 / 60000]\n",
            "loss is 1.0702947292884346e-05  [19200 / 60000]\n",
            "loss is 0.00031723332358524203  [25600 / 60000]\n",
            "loss is 0.0030406066216528416  [32000 / 60000]\n",
            "loss is 2.5432858819840476e-05  [38400 / 60000]\n",
            "loss is 0.011211959645152092  [44800 / 60000]\n",
            "loss is 0.010465666651725769  [51200 / 60000]\n",
            "loss is 6.778085662517697e-05  [57600 / 60000]\n",
            "accuracy is 98.77 test_loss is 0.05682891372372202\n",
            "epoch: 18 ---------------------------\n",
            "loss is 2.994584065163508e-05  [0 / 60000]\n",
            "loss is 3.7430625525303185e-05  [6400 / 60000]\n",
            "loss is 1.2413413060130551e-05  [12800 / 60000]\n",
            "loss is 0.013846416026353836  [19200 / 60000]\n",
            "loss is 0.0001255370007129386  [25600 / 60000]\n",
            "loss is 0.00015513274411205202  [32000 / 60000]\n",
            "loss is 1.4649728655058425e-05  [38400 / 60000]\n",
            "loss is 0.0004613441415131092  [44800 / 60000]\n",
            "loss is 3.98026495531667e-05  [51200 / 60000]\n",
            "loss is 0.04766014218330383  [57600 / 60000]\n",
            "accuracy is 98.86 test_loss is 0.04921953705999274\n",
            "epoch: 19 ---------------------------\n",
            "loss is 0.0008911766926757991  [0 / 60000]\n",
            "loss is 1.822555896069389e-05  [6400 / 60000]\n",
            "loss is 3.688019774017448e-07  [12800 / 60000]\n",
            "loss is 4.494369022722822e-06  [19200 / 60000]\n",
            "loss is 8.059590982156806e-06  [25600 / 60000]\n",
            "loss is 0.0003608762635849416  [32000 / 60000]\n",
            "loss is 0.0006873933598399162  [38400 / 60000]\n",
            "loss is 2.0262908947188407e-05  [44800 / 60000]\n",
            "loss is 0.0006019966094754636  [51200 / 60000]\n",
            "loss is 0.07308633625507355  [57600 / 60000]\n",
            "accuracy is 98.86 test_loss is 0.06400731054298099\n",
            "epoch: 20 ---------------------------\n",
            "loss is 0.0001262243458768353  [0 / 60000]\n",
            "loss is 0.0031542940996587276  [6400 / 60000]\n",
            "loss is 0.0032801730558276176  [12800 / 60000]\n",
            "loss is 3.22056730510667e-05  [19200 / 60000]\n",
            "loss is 0.002998652867972851  [25600 / 60000]\n",
            "loss is 1.0880608897423372e-05  [32000 / 60000]\n",
            "loss is 0.0034228696022182703  [38400 / 60000]\n",
            "loss is 0.0013453722931444645  [44800 / 60000]\n",
            "loss is 5.249201785773039e-05  [51200 / 60000]\n",
            "loss is 0.010046171955764294  [57600 / 60000]\n",
            "accuracy is 98.85000000000001 test_loss is 0.05292455843695204\n",
            "DONE\n"
          ]
        }
      ]
    }
  ]
}